{
 "cells": [
  {
   "cell_type": "markdown",
   "id": "52ae4bc3",
   "metadata": {},
   "source": [
    "# Section 2: Control Flow Assignments\n",
    "## Lesson 2.1: Conditional Statements\n",
    "### Assignment 1: Simple if Statement\n",
    "\n",
    "Write a program that asks the user to input a number and prints whether the number is positive."
   ]
  },
  {
   "cell_type": "code",
   "execution_count": 6,
   "id": "d3efe7d4",
   "metadata": {},
   "outputs": [
    {
     "name": "stdin",
     "output_type": "stream",
     "text": [
      "Enter a number: 8\n"
     ]
    },
    {
     "name": "stdout",
     "output_type": "stream",
     "text": [
      "The number is positive\n"
     ]
    }
   ],
   "source": [
    "usr_input: int = int(input('Enter a number:'))\n",
    "\n",
    "if usr_input > 0:\n",
    "    print('The number is positive')\n",
    "else:\n",
    "    print('The number is not positive')\n",
    "    "
   ]
  },
  {
   "cell_type": "markdown",
   "id": "ada0bf52",
   "metadata": {},
   "source": [
    "### Assignment 2: if-else Statement\n",
    "\n",
    "Write a program that asks the user to input a number and prints whether the number is positive or negative."
   ]
  },
  {
   "cell_type": "code",
   "execution_count": 8,
   "id": "7c6f3aca",
   "metadata": {},
   "outputs": [
    {
     "name": "stdin",
     "output_type": "stream",
     "text": [
      "Enter a number: 8\n"
     ]
    },
    {
     "name": "stdout",
     "output_type": "stream",
     "text": [
      "8 is Positive\n"
     ]
    }
   ],
   "source": [
    "usr_input: int = int(input('Enter a number:'))\n",
    "\n",
    "def num_checker(input: int) -> str:\n",
    "    if input < 0:\n",
    "        return f'{input} is Negative'\n",
    "    elif input > 0:\n",
    "        return f'{input} is Positive'\n",
    "\n",
    "print(num_checker(usr_input))"
   ]
  },
  {
   "cell_type": "markdown",
   "id": "13fb6a14",
   "metadata": {},
   "source": [
    "### Assignment 3: if-elif-else Statement\n",
    "\n",
    "Write a program that asks the user to input a number and prints whether the number is positive, negative, or zero."
   ]
  },
  {
   "cell_type": "code",
   "execution_count": 9,
   "id": "7399c5e9",
   "metadata": {},
   "outputs": [
    {
     "name": "stdin",
     "output_type": "stream",
     "text": [
      "Enter a number: 0\n"
     ]
    },
    {
     "name": "stdout",
     "output_type": "stream",
     "text": [
      "0 is Zero\n"
     ]
    }
   ],
   "source": [
    "usr_input: int = int(input('Enter a number:'))\n",
    "\n",
    "def num_checker(input: int) -> str:\n",
    "    if input < 0:\n",
    "        return f'{input} is Negative'\n",
    "    elif input > 0:\n",
    "        return f'{input} is Positive'\n",
    "    else: \n",
    "        return f'{input} is Zero'\n",
    "\n",
    "print(num_checker(usr_input))"
   ]
  },
  {
   "cell_type": "markdown",
   "id": "b6fcf7e9",
   "metadata": {},
   "source": [
    "### Assignment 4: Nested if Statement\n",
    "\n",
    "Write a program that asks the user to input a number and prints whether the number is positive and even, positive and odd, or negative."
   ]
  },
  {
   "cell_type": "code",
   "execution_count": 13,
   "id": "8efef396",
   "metadata": {},
   "outputs": [
    {
     "name": "stdout",
     "output_type": "stream",
     "text": [
      "8 is positive and even\n"
     ]
    }
   ],
   "source": [
    "def num_checker(usr_input: int) -> str:\n",
    "\n",
    "    if usr_input > 0:\n",
    "        if usr_input % 2 == 0:\n",
    "            return f'{usr_input} is positive and even'\n",
    "        else:\n",
    "            return f'{usr_input} is positive and odd'\n",
    "    elif usr_input < 0:\n",
    "        return f'{usr_input} is negative'\n",
    "\n",
    "print(num_checker(8))"
   ]
  },
  {
   "cell_type": "markdown",
   "id": "0730650a",
   "metadata": {},
   "source": [
    "## Lesson 2.2: Loops\n",
    "### Assignment 5: for Loop\n",
    "\n",
    "Write a program that prints all the numbers from 1 to 10 using a for loop."
   ]
  },
  {
   "cell_type": "code",
   "execution_count": 5,
   "id": "345b7757",
   "metadata": {},
   "outputs": [
    {
     "name": "stdout",
     "output_type": "stream",
     "text": [
      "1\n",
      "2\n",
      "3\n",
      "4\n",
      "5\n",
      "6\n",
      "7\n",
      "8\n",
      "9\n",
      "10\n"
     ]
    }
   ],
   "source": [
    "for i in range(10):\n",
    "    print(f'{i+1}')"
   ]
  },
  {
   "cell_type": "markdown",
   "id": "0d8e6336",
   "metadata": {},
   "source": [
    "### Assignment 6: while Loop\n",
    "\n",
    "Write a program that prints all the numbers from 1 to 10 using a while loop."
   ]
  },
  {
   "cell_type": "code",
   "execution_count": 7,
   "id": "eb672f6f",
   "metadata": {},
   "outputs": [
    {
     "name": "stdout",
     "output_type": "stream",
     "text": [
      "1\n",
      "2\n",
      "3\n",
      "4\n",
      "5\n",
      "6\n",
      "7\n",
      "8\n",
      "9\n",
      "10\n"
     ]
    }
   ],
   "source": [
    "x = 0\n",
    "while x == 0:\n",
    "    for i in range(10):\n",
    "        print(f'{i+1}')\n",
    "    x += 1\n",
    "    "
   ]
  },
  {
   "cell_type": "markdown",
   "id": "3f11fef7",
   "metadata": {},
   "source": [
    "### Assignment 7: Nested Loops\n",
    "\n",
    "Write a program that prints a 5x5 grid of asterisks (*) using nested loops."
   ]
  },
  {
   "cell_type": "code",
   "execution_count": 19,
   "id": "1345472a",
   "metadata": {},
   "outputs": [
    {
     "name": "stdout",
     "output_type": "stream",
     "text": [
      "*****\n",
      "*****\n",
      "*****\n",
      "*****\n",
      "*****\n"
     ]
    }
   ],
   "source": [
    "for i in range(5):\n",
    "    for j in range(1):\n",
    "        print('*' * 5)"
   ]
  },
  {
   "cell_type": "markdown",
   "id": "c5f70417",
   "metadata": {},
   "source": [
    "### Assignment 8: break Statement\n",
    "\n",
    "Write a program that asks the user to input numbers until they input 0. The program should print the sum of all the input numbers."
   ]
  },
  {
   "cell_type": "code",
   "execution_count": 24,
   "id": "503c8cfd",
   "metadata": {},
   "outputs": [
    {
     "name": "stdin",
     "output_type": "stream",
     "text": [
      "Enter a numer: 8\n",
      "Enter a numer: 7\n",
      "Enter a numer: 5\n",
      "Enter a numer: 4\n",
      "Enter a numer: 6\n",
      "Enter a numer: 2\n",
      "Enter a numer: 0\n"
     ]
    },
    {
     "name": "stdout",
     "output_type": "stream",
     "text": [
      "32\n"
     ]
    }
   ],
   "source": [
    "def total_sum() -> int:\n",
    "    total = 0\n",
    "    while True:\n",
    "        usr_input: int = int(input('Enter a numer:'))\n",
    "\n",
    "        if usr_input == 0:\n",
    "            break\n",
    "        else:\n",
    "            total += usr_input\n",
    "    return total\n",
    "        \n",
    "\n",
    "def main() -> None:\n",
    "    print(total_sum())\n",
    "\n",
    "main()\n",
    "           "
   ]
  },
  {
   "cell_type": "markdown",
   "id": "e0929516",
   "metadata": {},
   "source": [
    "### Assignment 9: continue Statement\n",
    "\n",
    "Write a program that prints all the numbers from 1 to 10 except 5 using a for loop and continue statement."
   ]
  },
  {
   "cell_type": "code",
   "execution_count": 28,
   "id": "bc2a47ac",
   "metadata": {},
   "outputs": [
    {
     "name": "stdout",
     "output_type": "stream",
     "text": [
      "1\n",
      "2\n",
      "3\n",
      "4\n",
      "6\n",
      "7\n",
      "8\n",
      "9\n",
      "10\n"
     ]
    }
   ],
   "source": [
    "for i in range(1,11):\n",
    "    if i == 5:\n",
    "        continue\n",
    "    else:\n",
    "        print(f'{i}')"
   ]
  },
  {
   "cell_type": "markdown",
   "id": "e4b388df",
   "metadata": {},
   "source": [
    "### Assignment 10: pass Statement\n",
    "\n",
    "Write a program that defines an empty function using the pass statement."
   ]
  },
  {
   "cell_type": "code",
   "execution_count": 29,
   "id": "48f2c2a7",
   "metadata": {},
   "outputs": [],
   "source": [
    "def uselessfunction() -> None:\n",
    "    pass"
   ]
  },
  {
   "cell_type": "markdown",
   "id": "83759b20",
   "metadata": {},
   "source": [
    "### Assignment 11: Combining Loops and Conditionals\n",
    "\n",
    "Write a program that asks the user to input a number and prints all the even numbers from 1 to that number using a for loop."
   ]
  },
  {
   "cell_type": "code",
   "execution_count": 33,
   "id": "e56c321a",
   "metadata": {},
   "outputs": [
    {
     "name": "stdin",
     "output_type": "stream",
     "text": [
      "Enter a range: 18\n"
     ]
    },
    {
     "name": "stdout",
     "output_type": "stream",
     "text": [
      "0\n",
      "2\n",
      "4\n",
      "6\n",
      "8\n",
      "10\n",
      "12\n",
      "14\n",
      "16\n"
     ]
    }
   ],
   "source": [
    "usr_input: int = int(input('Enter a range:'))\n",
    "\n",
    "for i in range(usr_input):\n",
    "    if i % 2 == 0:\n",
    "        print(f'{i}')"
   ]
  },
  {
   "cell_type": "markdown",
   "id": "5261c50a",
   "metadata": {},
   "source": [
    "### Assignment 12: Factorial Calculation\n",
    "\n",
    "Write a program that calculates the factorial of a number input by the user using a while loop."
   ]
  },
  {
   "cell_type": "code",
   "execution_count": 41,
   "id": "7bcca176",
   "metadata": {},
   "outputs": [
    {
     "name": "stdin",
     "output_type": "stream",
     "text": [
      "Enter a number: 8\n"
     ]
    },
    {
     "name": "stdout",
     "output_type": "stream",
     "text": [
      "40320\n"
     ]
    }
   ],
   "source": [
    "while True:\n",
    "    fact = 1\n",
    "    usr_intput: int = int(input('Enter a number:'))\n",
    "    for i in range(2, usr_intput+1):\n",
    "        fact *= i\n",
    "    break;\n",
    "print(fact)"
   ]
  },
  {
   "cell_type": "markdown",
   "id": "384b5c31",
   "metadata": {},
   "source": [
    "### Assignment 13: Sum of Digits\n",
    "\n",
    "Write a program that calculates the sum of the digits of a number input by the user using a while loop."
   ]
  },
  {
   "cell_type": "code",
   "execution_count": 45,
   "id": "ce1ec8b1",
   "metadata": {},
   "outputs": [
    {
     "name": "stdin",
     "output_type": "stream",
     "text": [
      "Enter a number: 4\n"
     ]
    },
    {
     "name": "stdout",
     "output_type": "stream",
     "text": [
      "10\n"
     ]
    }
   ],
   "source": [
    "while True:\n",
    "    total: int = 0\n",
    "    usr_input: int = int(input('Enter a number:'))\n",
    "\n",
    "    for i in range(1,usr_input+1):\n",
    "        total += i\n",
    "    break\n",
    "print(total)"
   ]
  },
  {
   "cell_type": "markdown",
   "id": "847fea6e",
   "metadata": {},
   "source": [
    "### Assignment 14: Prime Number Check\n",
    "\n",
    "Write a program that checks if a number input by the user is a prime number using a for loop."
   ]
  },
  {
   "cell_type": "code",
   "execution_count": 55,
   "id": "5daab130",
   "metadata": {},
   "outputs": [
    {
     "name": "stdin",
     "output_type": "stream",
     "text": [
      "Enter a number: 7\n"
     ]
    },
    {
     "name": "stdout",
     "output_type": "stream",
     "text": [
      "7 is a prime number\n"
     ]
    }
   ],
   "source": [
    "from typing import List\n",
    "usr_input: int = int(input('Enter a number:'))\n",
    "prime_exceptions: List[int] = [0,1]\n",
    "\n",
    "flag = False\n",
    "\n",
    "if usr_input in prime_exceptions:\n",
    "    print(usr_input, \"is not a prime number\")\n",
    "elif usr_input > 1:\n",
    "    for i in range(2, usr_input):\n",
    "        if (usr_input % i) == 0:\n",
    "            flag = True\n",
    "            break\n",
    "\n",
    "    if flag:\n",
    "        print(usr_input, \"is not a prime number\")\n",
    "    else:\n",
    "        print(usr_input, \"is a prime number\")"
   ]
  },
  {
   "cell_type": "markdown",
   "id": "a067cefb",
   "metadata": {},
   "source": [
    "### Assignment 15: Fibonacci Sequence\n",
    "\n",
    "Write a program that prints the first n Fibonacci numbers, where n is input by the user."
   ]
  },
  {
   "cell_type": "code",
   "execution_count": 62,
   "id": "c42c01e6",
   "metadata": {},
   "outputs": [
    {
     "name": "stdin",
     "output_type": "stream",
     "text": [
      "Enter the range: 8\n"
     ]
    },
    {
     "name": "stdout",
     "output_type": "stream",
     "text": [
      "0\n",
      "1\n",
      "1\n",
      "2\n",
      "3\n",
      "5\n",
      "8\n",
      "13\n"
     ]
    }
   ],
   "source": [
    "\n",
    "usr_input: int = int(input('Enter the range:'))\n",
    "\n",
    "\n",
    "n1 , n2 = 0 , 1\n",
    "\n",
    "if usr_input < 0:\n",
    "    print('Enter a positive number')\n",
    "elif usr_input == 1:\n",
    "    print('Fibonacci numbers upto 1 is', n1)\n",
    "else:\n",
    "    for _ in range(usr_input):\n",
    "        print(n1)\n",
    "        nth = n1 + n2\n",
    "        n1 = n2\n",
    "        n2 = nth"
   ]
  },
  {
   "cell_type": "code",
   "execution_count": null,
   "id": "2adfed9c",
   "metadata": {},
   "outputs": [],
   "source": []
  }
 ],
 "metadata": {
  "kernelspec": {
   "display_name": "Python 3 (ipykernel)",
   "language": "python",
   "name": "python3"
  },
  "language_info": {
   "codemirror_mode": {
    "name": "ipython",
    "version": 3
   },
   "file_extension": ".py",
   "mimetype": "text/x-python",
   "name": "python",
   "nbconvert_exporter": "python",
   "pygments_lexer": "ipython3",
   "version": "3.12.4"
  }
 },
 "nbformat": 4,
 "nbformat_minor": 5
}
