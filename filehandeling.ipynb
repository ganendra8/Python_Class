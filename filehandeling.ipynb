{
 "cells": [
  {
   "cell_type": "code",
   "execution_count": 34,
   "id": "88109d74-1462-4e53-817e-12b0e1811c03",
   "metadata": {},
   "outputs": [
    {
     "name": "stdout",
     "output_type": "stream",
     "text": [
      "hello wrold\n",
      "hello\n",
      "hai\n",
      "bye\n"
     ]
    }
   ],
   "source": [
    "with open('demo.txt') as f:\n",
    "    print(f.read())"
   ]
  },
  {
   "cell_type": "code",
   "execution_count": 29,
   "id": "6c3bcb96-44f1-4895-ab3e-06b3e15b06ff",
   "metadata": {},
   "outputs": [],
   "source": [
    "with open('demo.txt', 'a') as w:\n",
    "    w.write('hello wrold')"
   ]
  },
  {
   "cell_type": "code",
   "execution_count": 30,
   "id": "b4581c8e-3580-4609-9533-3dfadb2d0b91",
   "metadata": {},
   "outputs": [
    {
     "name": "stdout",
     "output_type": "stream",
     "text": [
      "hello wrold\n"
     ]
    }
   ],
   "source": [
    "with open('demo.txt') as f:\n",
    "    for i in f:\n",
    "        print(i.rstrip())"
   ]
  },
  {
   "cell_type": "code",
   "execution_count": 31,
   "id": "9b324467-eee6-4e89-9929-92d79a528ea8",
   "metadata": {},
   "outputs": [],
   "source": [
    "line = ['hello\\n', 'hai\\n', 'bye']\n",
    "with open('demo.txt', 'a') as file:\n",
    "    file.writelines(line)"
   ]
  },
  {
   "cell_type": "code",
   "execution_count": 36,
   "id": "61e90616-09c0-40f2-9120-5f98aa052b31",
   "metadata": {},
   "outputs": [
    {
     "name": "stdout",
     "output_type": "stream",
     "text": [
      "hello world\n"
     ]
    }
   ],
   "source": [
    "with open('content.txt', 'w+') as file:\n",
    "    file.write('hello world')\n",
    "    file.seek(0)\n",
    "    contents = file.read()\n",
    "    print(contents)"
   ]
  },
  {
   "cell_type": "code",
   "execution_count": null,
   "id": "b9be4860-af21-42d5-b8f6-6154b6b1d02a",
   "metadata": {},
   "outputs": [],
   "source": []
  }
 ],
 "metadata": {
  "kernelspec": {
   "display_name": "Python 3 (ipykernel)",
   "language": "python",
   "name": "python3"
  },
  "language_info": {
   "codemirror_mode": {
    "name": "ipython",
    "version": 3
   },
   "file_extension": ".py",
   "mimetype": "text/x-python",
   "name": "python",
   "nbconvert_exporter": "python",
   "pygments_lexer": "ipython3",
   "version": "3.11.7"
  }
 },
 "nbformat": 4,
 "nbformat_minor": 5
}
