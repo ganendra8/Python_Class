{
 "cells": [
  {
   "cell_type": "code",
   "execution_count": 16,
   "id": "1d765222-33df-44cd-b395-9f61d1985992",
   "metadata": {},
   "outputs": [
    {
     "name": "stdout",
     "output_type": "stream",
     "text": [
      "\n",
      "Inventory Menu:\n",
      "\n",
      "1.View Inventory\n",
      "2.Add Item\n",
      "3.Remove Item\n",
      "0.Quit\n"
     ]
    },
    {
     "name": "stdin",
     "output_type": "stream",
     "text": [
      "\n",
      "Choose one option: 1\n"
     ]
    },
    {
     "name": "stdout",
     "output_type": "stream",
     "text": [
      "\n",
      "Inventory is empty\n",
      "\n",
      "\n",
      "Inventory Menu:\n",
      "\n",
      "1.View Inventory\n",
      "2.Add Item\n",
      "3.Remove Item\n",
      "0.Quit\n"
     ]
    },
    {
     "name": "stdin",
     "output_type": "stream",
     "text": [
      "\n",
      "Choose one option: 2\n",
      "Enter the item you want to enter: hello\n"
     ]
    },
    {
     "name": "stdout",
     "output_type": "stream",
     "text": [
      "hello is added to the inventory\n",
      "\n",
      "Inventory Menu:\n",
      "\n",
      "1.View Inventory\n",
      "2.Add Item\n",
      "3.Remove Item\n",
      "0.Quit\n"
     ]
    },
    {
     "name": "stdin",
     "output_type": "stream",
     "text": [
      "\n",
      "Choose one option: 2\n",
      "Enter the item you want to enter: world\n"
     ]
    },
    {
     "name": "stdout",
     "output_type": "stream",
     "text": [
      "world is added to the inventory\n",
      "\n",
      "Inventory Menu:\n",
      "\n",
      "1.View Inventory\n",
      "2.Add Item\n",
      "3.Remove Item\n",
      "0.Quit\n"
     ]
    },
    {
     "name": "stdin",
     "output_type": "stream",
     "text": [
      "\n",
      "Choose one option: 1\n"
     ]
    },
    {
     "name": "stdout",
     "output_type": "stream",
     "text": [
      "Current Inventory:\n",
      "\n",
      "1. hello\n",
      "2. world\n",
      "\n",
      "Inventory Menu:\n",
      "\n",
      "1.View Inventory\n",
      "2.Add Item\n",
      "3.Remove Item\n",
      "0.Quit\n"
     ]
    },
    {
     "name": "stdin",
     "output_type": "stream",
     "text": [
      "\n",
      "Choose one option: 0\n"
     ]
    },
    {
     "name": "stdout",
     "output_type": "stream",
     "text": [
      "Exiting the inventory program...\n"
     ]
    }
   ],
   "source": [
    "from typing import List\n",
    "\n",
    "inventory: List[str] = []\n",
    "\n",
    "def view_inventory() -> None:\n",
    "    if inventory:\n",
    "        print('Current Inventory:\\n')\n",
    "        for index, item in enumerate(inventory, start=1):\n",
    "            print(f'{index}. {item}')\n",
    "    else:\n",
    "        print('\\nInventory is empty\\n')\n",
    "\n",
    "def add_item(item: str) -> None:\n",
    "    inventory.append(item)\n",
    "    print(f'{item} is added to the inventory')\n",
    "\n",
    "def remove_item(index:str ) -> None:\n",
    "    try:\n",
    "        inventory.pop(index-1)\n",
    "    except IndexError:\n",
    "        print('Invalid Index!')\n",
    "\n",
    "\n",
    "def main() -> None:\n",
    "    while True:\n",
    "\n",
    "        print('\\nInventory Menu:\\n')\n",
    "        print('1.View Inventory')\n",
    "        print('2.Add Item')\n",
    "        print('3.Remove Item')\n",
    "        print('0.Quit')\n",
    "\n",
    "\n",
    "        choice: str = input('\\nChoose one option:')\n",
    "\n",
    "\n",
    "        if choice == '1':\n",
    "            view_inventory()\n",
    "        elif choice == '2':\n",
    "            item: str = input('Enter the item you want to enter:')\n",
    "            add_item(item)\n",
    "        elif choice == '3':\n",
    "            view_inventory()\n",
    "            if inventory:\n",
    "                try:\n",
    "                    index: int = int(input('Enter the index no you want to delete:'))\n",
    "                    remove_item(index)\n",
    "                except ValueError:\n",
    "                    print('Not a valid index number')\n",
    "            else:\n",
    "                print('The inventory is empty')\n",
    "        elif choice == '0':\n",
    "            print('Exiting the inventory program...')\n",
    "            break\n",
    "        else:\n",
    "            print('Invalid Option')\n",
    "\n",
    "if __name__  == '__main__':\n",
    "    main()"
   ]
  },
  {
   "cell_type": "code",
   "execution_count": null,
   "id": "5fc698c2-4229-406c-a9ef-b82d77cc4ee0",
   "metadata": {},
   "outputs": [],
   "source": []
  }
 ],
 "metadata": {
  "kernelspec": {
   "display_name": "Python 3 (ipykernel)",
   "language": "python",
   "name": "python3"
  },
  "language_info": {
   "codemirror_mode": {
    "name": "ipython",
    "version": 3
   },
   "file_extension": ".py",
   "mimetype": "text/x-python",
   "name": "python",
   "nbconvert_exporter": "python",
   "pygments_lexer": "ipython3",
   "version": "3.12.4"
  }
 },
 "nbformat": 4,
 "nbformat_minor": 5
}
