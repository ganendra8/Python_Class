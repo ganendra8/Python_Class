{
 "cells": [
  {
   "cell_type": "code",
   "execution_count": 2,
   "id": "37cf2996-b9b5-46dc-899b-45fe4bcd24e7",
   "metadata": {},
   "outputs": [
    {
     "name": "stdout",
     "output_type": "stream",
     "text": [
      "Ram is 20 years old, his height is 5.8 and is a student True\n"
     ]
    }
   ],
   "source": [
    "age = 20\n",
    "height = 5.8\n",
    "name ='Ram'\n",
    "is_student = True\n",
    "\n",
    "print(f\"{name} is {age} years old, his height is {height} and is a student {is_student}\")"
   ]
  },
  {
   "cell_type": "code",
   "execution_count": 7,
   "id": "ac6f9abb-0167-46a2-96bb-c9516f3b19b2",
   "metadata": {},
   "outputs": [
    {
     "name": "stdout",
     "output_type": "stream",
     "text": [
      "  ___________\n",
      "| Hello World |\n",
      "  ===========\n",
      "           \\\n",
      "            \\\n",
      "              ^__^\n",
      "              (oo)\\_______\n",
      "              (__)\\       )\\/\\\n",
      "                  ||----w |\n",
      "                  ||     ||\n",
      "  ___________\n",
      "| Hello World |\n",
      "  ===========\n",
      "           \\\n",
      "            \\  \n",
      "                   /`·.¸\n",
      "                /¸...¸`:·\n",
      "            ¸.·´  ¸   `·.¸.·´)\n",
      "           : © ):´;      ¸  {\n",
      "            `·.¸ `·  ¸.·´\\`·¸)\n",
      "                `\\\\´´\\¸.·´\n"
     ]
    }
   ],
   "source": [
    "import cowsay\n",
    "\n",
    "my_fish = r'''\n",
    "\\\n",
    " \\  \n",
    "        /`·.¸\n",
    "     /¸...¸`:·\n",
    " ¸.·´  ¸   `·.¸.·´)\n",
    ": © ):´;      ¸  {\n",
    " `·.¸ `·  ¸.·´\\`·¸)\n",
    "     `\\\\´´\\¸.·´\n",
    "'''\n",
    "\n",
    "cowsay.cow(\"Hello World\")\n",
    "cowsay.draw(\"Hello World\", my_fish)"
   ]
  },
  {
   "cell_type": "code",
   "execution_count": 5,
   "id": "f7639221-0a72-4912-8dbe-bc6bb15f1411",
   "metadata": {},
   "outputs": [
    {
     "name": "stdin",
     "output_type": "stream",
     "text": [
      "Enter a num1: 8\n",
      "Enter a num2: 8\n",
      "Enter a operator /,*,-,+: /\n"
     ]
    },
    {
     "name": "stdout",
     "output_type": "stream",
     "text": [
      "1.0\n"
     ]
    }
   ],
   "source": [
    "\n",
    "def sim_cal(num1: float, num2: float) -> float:\n",
    "    operator: str = input('Enter a operator /,*,-,+:')\n",
    "\n",
    "    if '/' in operator:\n",
    "        return num1/num2\n",
    "    elif '*' in operator:\n",
    "        return num1*num2\n",
    "    elif '+' in operator:\n",
    "        return num1+num2\n",
    "    elif '-' in operator:\n",
    "        return num1-num2\n",
    "    else:\n",
    "        return 'No such operators'\n",
    "\n",
    "def main()-> None:\n",
    "    num1: float = float(input('Enter a num1:'))\n",
    "    num2: float = float(input('Enter a num2:'))\n",
    "\n",
    "    print(sim_cal(num1,num2))\n",
    "\n",
    "if __name__ == '__main__':\n",
    "    main()"
   ]
  },
  {
   "cell_type": "code",
   "execution_count": 4,
   "id": "c94221c6-8bed-482c-b731-c84c8ab52dd2",
   "metadata": {},
   "outputs": [
    {
     "name": "stdout",
     "output_type": "stream",
     "text": [
      "12\n"
     ]
    }
   ],
   "source": [
    "add = lambda a,b,c : a + b + c\n",
    "print(add(2,4,6))"
   ]
  },
  {
   "cell_type": "code",
   "execution_count": 5,
   "id": "96671a90-85b5-4ec7-924e-caf85d3503de",
   "metadata": {},
   "outputs": [
    {
     "name": "stdout",
     "output_type": "stream",
     "text": [
      "9\n"
     ]
    }
   ],
   "source": [
    "pow = lambda a: a**2\n",
    "print(pow(3))"
   ]
  },
  {
   "cell_type": "code",
   "execution_count": 11,
   "id": "0c57b1c0-410d-41b5-b67a-9550759980ea",
   "metadata": {},
   "outputs": [
    {
     "name": "stdout",
     "output_type": "stream",
     "text": [
      "[6, 8, 10, 12]\n"
     ]
    }
   ],
   "source": [
    "age = [1,2,3,4,5,6,7,8,9,10,11,12]\n",
    "\n",
    "def age_checker(age):\n",
    "    if age > 5:\n",
    "        if age % 2 == 0:\n",
    "            return True\n",
    "    else: \n",
    "        return False\n",
    "\n",
    "filtered_age = filter(age_checker, age)\n",
    "print(list(filtered_age))"
   ]
  },
  {
   "cell_type": "code",
   "execution_count": 12,
   "id": "c9f3e439-84a9-4cd8-9a13-2005d3884e7f",
   "metadata": {},
   "outputs": [
    {
     "name": "stdout",
     "output_type": "stream",
     "text": [
      "[6, 8, 10, 12]\n"
     ]
    }
   ],
   "source": [
    "age = [1,2,3,4,5,6,7,8,9,10,11,12] \n",
    "greater_5 = list(filter(lambda x : x > 5 and x % 2 == 0, age))\n",
    "print(greater_5)"
   ]
  },
  {
   "cell_type": "code",
   "execution_count": 18,
   "id": "a8b92b0e-15ce-44e5-8122-534362235205",
   "metadata": {},
   "outputs": [
    {
     "name": "stdout",
     "output_type": "stream",
     "text": [
      "[{'name': 'mita', 'age': 50}, {'name': 'sita', 'age': 32}]\n"
     ]
    }
   ],
   "source": [
    "people = [\n",
    "    \n",
    "    {'name': 'ram','age': 18},\n",
    "    {'name': 'hari','age': 25},\n",
    "    {'name': 'mita','age': 50},\n",
    "    {'name': 'sita','age': 32},\n",
    "]\n",
    "\n",
    "def age_greater_than_30(people):\n",
    "    return people['age'] > 30\n",
    "\n",
    "\n",
    "filtered = list(filter(age_greater_than_30, people))\n",
    "print(filtered)"
   ]
  },
  {
   "cell_type": "code",
   "execution_count": 19,
   "id": "1f6772cb-56cd-40e0-ac27-b5df0a949225",
   "metadata": {},
   "outputs": [
    {
     "data": {
      "text/plain": [
       "array([1, 2, 3, 4])"
      ]
     },
     "execution_count": 19,
     "metadata": {},
     "output_type": "execute_result"
    }
   ],
   "source": [
    "import numpy as np\n",
    "\n",
    "np.array([1,2,3,4])\n"
   ]
  },
  {
   "cell_type": "code",
   "execution_count": 6,
   "id": "f714557c-73d8-40e6-973c-7447eab9fa48",
   "metadata": {},
   "outputs": [
    {
     "data": {
      "text/plain": [
       "27"
      ]
     },
     "execution_count": 6,
     "metadata": {},
     "output_type": "execute_result"
    }
   ],
   "source": [
    "from Package.pag import add\n",
    "\n",
    "add(3,24)"
   ]
  },
  {
   "cell_type": "code",
   "execution_count": 11,
   "id": "80e5d0e3-f8c9-454d-83c2-d22bd36674f9",
   "metadata": {},
   "outputs": [
    {
     "data": {
      "text/plain": [
       "-4"
      ]
     },
     "execution_count": 11,
     "metadata": {},
     "output_type": "execute_result"
    }
   ],
   "source": [
    "from test import sub\n",
    "sub(3,7)"
   ]
  },
  {
   "cell_type": "code",
   "execution_count": 12,
   "id": "d0546f40-7f63-4043-be34-3761f6e80df2",
   "metadata": {},
   "outputs": [],
   "source": [
    "import os\n",
    "\n",
    "os.mkdir('demo')"
   ]
  },
  {
   "cell_type": "code",
   "execution_count": null,
   "id": "bfea99d6-df3a-411b-99cf-a5b6d22eca52",
   "metadata": {},
   "outputs": [],
   "source": []
  }
 ],
 "metadata": {
  "kernelspec": {
   "display_name": "Python 3 (ipykernel)",
   "language": "python",
   "name": "python3"
  },
  "language_info": {
   "codemirror_mode": {
    "name": "ipython",
    "version": 3
   },
   "file_extension": ".py",
   "mimetype": "text/x-python",
   "name": "python",
   "nbconvert_exporter": "python",
   "pygments_lexer": "ipython3",
   "version": "3.11.7"
  }
 },
 "nbformat": 4,
 "nbformat_minor": 5
}
